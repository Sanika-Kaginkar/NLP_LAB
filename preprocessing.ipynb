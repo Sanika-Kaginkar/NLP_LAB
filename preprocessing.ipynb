{
 "cells": [
  {
   "cell_type": "markdown",
   "id": "65351926",
   "metadata": {},
   "source": [
    "Name:Sanika Sunil Kaginkar\n",
    "Roll No:22102A2008\n",
    "github link: https://github.com/Sanika-Kaginkar/NLP_LAB.git"
   ]
  },
  {
   "cell_type": "code",
   "execution_count": 1,
   "id": "11aa7080-244a-47a8-857d-c17ae732a88d",
   "metadata": {},
   "outputs": [],
   "source": [
    "import nltk\n",
    "from nltk.corpus import stopwords\n",
    "from nltk.tokenize import word_tokenize\n",
    "from nltk.stem import PorterStemmer\n",
    "from nltk.stem import WordNetLemmatizer\n",
    "import string"
   ]
  },
  {
   "cell_type": "code",
   "execution_count": 2,
   "id": "1f5e9a3e-d95c-418c-972f-c9d066253c23",
   "metadata": {},
   "outputs": [
    {
     "name": "stderr",
     "output_type": "stream",
     "text": [
      "[nltk_data] Downloading package punkt to /home/sage/nltk_data...\n",
      "[nltk_data]   Unzipping tokenizers/punkt.zip.\n",
      "[nltk_data] Downloading package stopwords to /home/sage/nltk_data...\n",
      "[nltk_data]   Unzipping corpora/stopwords.zip.\n",
      "[nltk_data] Downloading package wordnet to /home/sage/nltk_data...\n"
     ]
    },
    {
     "data": {
      "text/plain": [
       "True"
      ]
     },
     "execution_count": 2,
     "metadata": {},
     "output_type": "execute_result"
    }
   ],
   "source": [
    "nltk.download('punkt')\n",
    "nltk.download('stopwords')\n",
    "nltk.download('wordnet')"
   ]
  },
  {
   "cell_type": "code",
   "execution_count": 3,
   "id": "83a57fcf-84bb-4ff6-b770-27eabf28d15d",
   "metadata": {},
   "outputs": [],
   "source": [
    "text = \"The most visible advances have been in what’s called “natural language processing” (NLP)\"\\\n",
    "\"the branch of AI focused on how computers can process language like humans do. It has been used to write an article for The Guardian, and AI-authored blog posts have gone viral — feats that weren’t possible a few years ago. AI even excels at cognitive tasks like programming where it is able to generate programs for simple video games from human instructions.\""
   ]
  },
  {
   "cell_type": "code",
   "execution_count": 6,
   "id": "7476c31d-7f30-439d-b9dc-87ccf2cb76fc",
   "metadata": {},
   "outputs": [],
   "source": [
    "# Tokenization\n",
    "tokens = word_tokenize(text)\n",
    "# Lowercasing\n",
    "tokens = [token.lower() for token in tokens]\n",
    "# Removing stopwords and punctuation\n",
    "stop_words = set(stopwords.words('english'))\n",
    "tokens = [token for token in tokens if token not in stop_words and token not in string.punctuation]\n",
    "# Stemming (using Porter stemmer)\n",
    "stemmer = PorterStemmer()\n",
    "tokens_stemmed = [stemmer.stem(token) for token in tokens]\n",
    "lemmatizer = WordNetLemmatizer()\n",
    "tokens_lemmatized = [lemmatizer.lemmatize(token) for token in tokens]"
   ]
  },
  {
   "cell_type": "code",
   "execution_count": 7,
   "id": "9e680ab2-6a21-445f-892e-e618612d5df9",
   "metadata": {},
   "outputs": [
    {
     "name": "stdout",
     "output_type": "stream",
     "text": [
      "Original text:\n",
      " The most visible advances have been in what’s called “natural language processing” (NLP)the branch of AI focused on how computers can process language like humans do. It has been used to write an article for The Guardian, and AI-authored blog posts have gone viral — feats that weren’t possible a few years ago. AI even excels at cognitive tasks like programming where it is able to generate programs for simple video games from human instructions.\n",
      "\n",
      "Processed tokens (stemmed):\n",
      " ['visibl', 'advanc', '’', 'call', '“', 'natur', 'languag', 'process', '”', 'nlp', 'branch', 'ai', 'focus', 'comput', 'process', 'languag', 'like', 'human', 'use', 'write', 'articl', 'guardian', 'ai-author', 'blog', 'post', 'gone', 'viral', '—', 'feat', '’', 'possibl', 'year', 'ago', 'ai', 'even', 'excel', 'cognit', 'task', 'like', 'program', 'abl', 'gener', 'program', 'simpl', 'video', 'game', 'human', 'instruct']\n",
      "\n",
      "Processed tokens (lemmatized):\n",
      " ['visible', 'advance', '’', 'called', '“', 'natural', 'language', 'processing', '”', 'nlp', 'branch', 'ai', 'focused', 'computer', 'process', 'language', 'like', 'human', 'used', 'write', 'article', 'guardian', 'ai-authored', 'blog', 'post', 'gone', 'viral', '—', 'feat', '’', 'possible', 'year', 'ago', 'ai', 'even', 'excels', 'cognitive', 'task', 'like', 'programming', 'able', 'generate', 'program', 'simple', 'video', 'game', 'human', 'instruction']\n"
     ]
    }
   ],
   "source": [
    "print(\"Original text:\\n\", text)\n",
    "print(\"\\nProcessed tokens (stemmed):\\n\", tokens_stemmed)\n",
    "print(\"\\nProcessed tokens (lemmatized):\\n\", tokens_lemmatized)"
   ]
  },
  {
   "cell_type": "code",
   "execution_count": null,
   "id": "a121ed6d-55d3-4542-9f20-d2e00545a2f6",
   "metadata": {},
   "outputs": [],
   "source": []
  }
 ],
 "metadata": {
  "kernelspec": {
   "display_name": "Python 3 (ipykernel)",
   "language": "python",
   "name": "python3"
  },
  "language_info": {
   "codemirror_mode": {
    "name": "ipython",
    "version": 3
   },
   "file_extension": ".py",
   "mimetype": "text/x-python",
   "name": "python",
   "nbconvert_exporter": "python",
   "pygments_lexer": "ipython3",
   "version": "3.12.4"
  }
 },
 "nbformat": 4,
 "nbformat_minor": 5
}
